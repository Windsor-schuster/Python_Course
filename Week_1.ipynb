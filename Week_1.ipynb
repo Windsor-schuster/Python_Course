{
  "nbformat": 4,
  "nbformat_minor": 0,
  "metadata": {
    "colab": {
      "name": "Week_1.ipynb",
      "provenance": [],
      "collapsed_sections": [],
      "authorship_tag": "ABX9TyPS6hf5bm+dyqApXgx3UdId",
      "include_colab_link": true
    },
    "kernelspec": {
      "name": "python3",
      "display_name": "Python 3.8.2 64-bit"
    },
    "language_info": {
      "name": "python",
      "version": "3.8.2"
    },
    "interpreter": {
      "hash": "31f2aee4e71d21fbe5cf8b01ff0e069b9275f58929596ceb00d14d90e3e16cd6"
    }
  },
  "cells": [
    {
      "cell_type": "markdown",
      "metadata": {
        "id": "view-in-github",
        "colab_type": "text"
      },
      "source": [
        "<a href=\"https://colab.research.google.com/github/RoryGeeson/Python_Teaching/blob/main/Week_1.ipynb\" target=\"_parent\"><img src=\"https://colab.research.google.com/assets/colab-badge.svg\" alt=\"Open In Colab\"/></a>"
      ]
    },
    {
      "cell_type": "markdown",
      "metadata": {
        "id": "yCrcknpsnOSd"
      },
      "source": [
        "# **Heya!** \n",
        "This'll be the doc for week one. Hopefully it'll be useful as a bit of a recap, some extra learning, and some practice problems!"
      ]
    },
    {
      "cell_type": "markdown",
      "metadata": {
        "id": "4KXXQTS45c-Z"
      },
      "source": [
        "https://www.w3schools.com/python/default.asp This is good if you want to dive deeper into any of the bits or check what they do ever."
      ]
    },
    {
      "cell_type": "markdown",
      "metadata": {
        "id": "WhP7V1O8n0HN"
      },
      "source": [
        "**Github** is a useful tool for collaboration and version control. Will be good if you can use this project to build up some experience with version control.\n",
        "Git:\n",
        "* Repository - these store the project, holding all relevant files (and branches, etc.)\n",
        "    * May be local (on your computer) or remote (on some server elsewhere, like hosting it on GitHub)\n",
        "* Branch - branches allow you to work on new features independent of the main project, allowing multiple collaborators to handle implementing their features without worrying about need to wait for the other to finish their task. \n",
        "    * Main branch that houses the 'master' copy of the project\n",
        "    * May assign arbitrary names to branches from main (and branches from other branches) but it's a good idea to name things logically\n",
        "* Commit - Creates a local snapshot of the project, i.e. creates a snapshot that is stored locally.\n",
        "* Push - Creates a snapshot in the remote repository\n",
        "* Pull - Opposite of Push, allows you to get a snapshot from the remote repository\n",
        "* Merge - Typically used to bring two branches together to generate a common history and bring the changes you make to the remote repository\n",
        "* Rebase - adds a branch's commits to another, essentially making it similar to branching from a later point\n",
        "\n",
        "Hope these ideas are making sense, they'll get better as you use them but it's basically just a nicer way to organise your files so you can see how things have changed over time and so you can avoid getting yourself stuck in a non-working version."
      ]
    },
    {
      "cell_type": "markdown",
      "metadata": {
        "id": "0v_tpnjtrC3v"
      },
      "source": [
        "**IDEs** allow you to write your code and execute it in the same bit of software. Just make life easier and have a range of quality of life features. Pycharm has some very nice features but can be a little feature dense and keeps a lot of the good stuff for the expensive professional version. Vistual Studio Code is a nice free IDE that is probably best to use.\n",
        "\n",
        "For a lot of projects, it's nice to have **Jupyter notebooks** for coding up your work and integrating code with output. You can use a mixture of notebooks and scripts to avoid putting everything into the notebook. It's nice to have jupyter integration with your IDE.\n",
        "\n",
        "Google **Colab** offers a nice online programming environment offering both a convenient location to do work in a notebook as well as free compute power."
      ]
    },
    {
      "cell_type": "markdown",
      "metadata": {
        "id": "Zt_T-qvXshAv"
      },
      "source": [
        "Python is an **interpreted** language rather than a compiled language. This lets us to do coding in a 'live' manner, such as here. Very handy!"
      ]
    },
    {
      "source": [
        "**Types** in Python are inferred and so you do not need to declare the type of a variable during creation. Types also remain dynamic so you can change them freely, if you, for some bizarre reason, wish to:"
      ],
      "cell_type": "code",
      "metadata": {
        "id": "oZf88bRPs7tP"
      },
      "execution_count": 64,
      "outputs": [
        {
          "output_type": "error",
          "ename": "SyntaxError",
          "evalue": "invalid syntax (2996302085.py, line 1)",
          "traceback": [
            "\u001b[0;36m  File \u001b[0;32m\"/var/folders/6l/kxf7m2b91gld05hr09zwhn_40000gn/T/ipykernel_97657/2996302085.py\"\u001b[0;36m, line \u001b[0;32m1\u001b[0m\n\u001b[0;31m    **Types** in Python are inferred and so you do not need to declare the type of a variable during creation. Types also remain dynamic so you can change them freely, if you, for some bizarre reason, wish to:\u001b[0m\n\u001b[0m    ^\u001b[0m\n\u001b[0;31mSyntaxError\u001b[0m\u001b[0;31m:\u001b[0m invalid syntax\n"
          ]
        }
      ]
    },
    {
      "cell_type": "code",
      "metadata": {
        "id": "cPqh17zOty5V"
      },
      "source": [
        "var1 = 123\n",
        "print(type(var1))\n",
        "var1 = str(var1)\n",
        "print(type(var1))"
      ],
      "execution_count": 2,
      "outputs": [
        {
          "output_type": "stream",
          "name": "stdout",
          "text": [
            "<class 'int'>\n<class 'str'>\n"
          ]
        }
      ]
    },
    {
      "cell_type": "markdown",
      "metadata": {
        "id": "sIBRewmTyBnw"
      },
      "source": [
        "Variables remain persistent throughout the Notebook."
      ]
    },
    {
      "cell_type": "code",
      "metadata": {
        "id": "CcfDFZkXyFw_"
      },
      "source": [
        "print(var1)"
      ],
      "execution_count": null,
      "outputs": []
    },
    {
      "cell_type": "markdown",
      "metadata": {
        "id": "ISLKORN4t-v5"
      },
      "source": [
        "There are some basic types in Python that are of the most use:\n",
        "\n",
        "\n",
        "* Numbers:\n",
        "  * int - integers\n",
        "  * float - floating point numbers (not exact representations of real numbers)\n",
        "  * complex numbers\n",
        "* Characters:\n",
        "  * string\n",
        "* Booleans - True/False (bool)\n",
        "* None - a special keyword for defining a null value"
      ]
    },
    {
      "cell_type": "markdown",
      "metadata": {
        "id": "BDGnddKB5pjs"
      },
      "source": [
        "You may cast between data types if possible:"
      ]
    },
    {
      "cell_type": "code",
      "metadata": {
        "id": "dUDeXiRw5uJD"
      },
      "source": [
        "myInt = 123\n",
        "myStr = str(myInt)"
      ],
      "execution_count": 140,
      "outputs": []
    },
    {
      "cell_type": "code",
      "metadata": {
        "id": "p3_H0K9Y2Wsu"
      },
      "source": [
        "myString = 'Scott'\n",
        "myOtherString = 'Hello'\n",
        "\n",
        "print(myString[0])\n",
        "print(myString[:2])\n",
        "print(myString[-2])\n",
        "print(myString[2:4])\n",
        "print(myString[-2:])\n",
        "print(myString+myString)\n",
        "print(myString*5)\n",
        "\n",
        "print('{} {}'.format(myOtherString, myString)) "
      ],
      "execution_count": 296,
      "outputs": [
        {
          "output_type": "stream",
          "name": "stdout",
          "text": [
            "S\nSc\nt\not\ntt\nSctt\nScottScottScottScottScott\nHello Scott\n"
          ]
        }
      ]
    },
    {
      "source": [
        "Compound data types allow you to group together other data types. Some are indexable, but remember Python works with zero indexing, i.e. 0,1,2,3,... The key ones are:\n",
        "* lists\n",
        "  * create with square brackets\n",
        "  * ordered, changeable, and allow duplicates\n",
        "  * indexable\n",
        "* tuples\n",
        "  * create with regular parentheses\n",
        "  * ordered, unchangeable, and allow duplicates\n",
        "  * indexable\n",
        "* sets\n",
        "  * create with curly braces\n",
        "  * unordered, unchangeable, and do not allow duplicates\n",
        "  * not indexable\n",
        "* dictionaries\n",
        "  * associate keys with values, e.g. dog:woof, cat:meow\n",
        "  * created with curly braces and a pairing of keys and values\n",
        "  * ordered, changeable, and do not allow key duplicates"
      ],
      "cell_type": "code",
      "metadata": {
        "id": "AAN2MXnDvedI"
      },
      "execution_count": null,
      "outputs": []
    },
    {
      "cell_type": "code",
      "metadata": {
        "id": "Fm7JisozxFi6"
      },
      "source": [
        "myList = [1,2,'a','Hello Scott']\n",
        "myTuple = (1,2,'a','Hello Scott')\n",
        "mySet = {1,1,1,1,1,2,'a','Hello Scott'}\n",
        "myDictionary = {'key':'value','dog':'woof','cat':'meow'}\n",
        "\n",
        "print(myList)\n",
        "print(myList[2])\n",
        "\n",
        "\n",
        "print(myTuple)\n",
        "print(myTuple[2])\n",
        "\n",
        "print(mySet)\n",
        "\n",
        "print(myDictionary['key'])"
      ],
      "execution_count": 24,
      "outputs": [
        {
          "output_type": "stream",
          "name": "stdout",
          "text": [
            "[1, 2, 'a', 'Hello Scott']\na\n(1, 2, 'a', 'Hello Scott')\na\n{1, 2, 'a', 'Hello Scott'}\nvalue\n"
          ]
        }
      ]
    },
    {
      "source": [
        "These are not going to work:"
      ],
      "cell_type": "markdown",
      "metadata": {
        "id": "p0ZWqPnDyMpC"
      }
    },
    {
      "cell_type": "code",
      "metadata": {
        "id": "Wyp218Qhx7W4"
      },
      "source": [
        "myTuple[2] = 5"
      ],
      "execution_count": null,
      "outputs": []
    },
    {
      "cell_type": "code",
      "metadata": {
        "id": "g3JoFD62yLue"
      },
      "source": [
        "print(mySet[2])"
      ],
      "execution_count": null,
      "outputs": []
    },
    {
      "cell_type": "markdown",
      "metadata": {
        "id": "adjc0pGb53ru"
      },
      "source": [
        "You can cast some of these to others:"
      ]
    },
    {
      "cell_type": "code",
      "metadata": {
        "id": "P1cX4OJM59gN"
      },
      "source": [
        "myNewList = list(myTuple)"
      ],
      "execution_count": 26,
      "outputs": []
    },
    {
      "source": [
        "Python has some basic **Operators** that let you manipulate variables.\n",
        "* Arithmetic (+,-,\\*,/,\\*\\*,\\/\\/,%)\n",
        "* Assignment (=,+=,-=, etc)\n",
        "* Comparison (==, !=, <, >, <=, >=)\n",
        "* Logical (and, or, not)\n",
        "* Membership (in)\n",
        "\n",
        "Feel free to have a play with these below:"
      ],
      "cell_type": "markdown",
      "metadata": {
        "id": "bk8tf_7Yycej"
      }
    },
    {
      "source": [
        "num1 = 123\n",
        "num2 = 321\n",
        "\n",
        "# Type out some operator expressions below:\n",
        "print (num1 + num2 ** num1 - num2 )\n"
      ],
      "cell_type": "code",
      "metadata": {
        "id": "7u_c2Wj44YpS"
      },
      "execution_count": 11,
      "outputs": [
        {
          "output_type": "stream",
          "name": "stdout",
          "text": [
            "199580904170858944588683464608694075062943107082809027605498347841561605181074274426665986623764972439807786764739130193391688887305693295698132008415537889753720415793877902074665765736230030622222862498385818118244547668141388643750880896837470534556730014314212951333550122949806119583030226121714710874363\n"
          ]
        }
      ]
    },
    {
      "cell_type": "markdown",
      "metadata": {
        "id": "2KutQPvw4kOf"
      },
      "source": [
        "**Conditions** are handled by 'if' statements. They follow an if, else structure (as well as elif). The code to be executed in the case of a conditional is indicated by indentation"
      ]
    },
    {
      "cell_type": "code",
      "metadata": {
        "id": "bCs0wpyw6ON0"
      },
      "source": [
        "a = 1\n",
        "b = 1\n",
        "c = 2\n",
        "d = 3\n",
        "\n",
        "if a == b:\n",
        "  if a < c:\n",
        "    print(\"a equals b but is smaller than c\")\n",
        "\n",
        "if a == c:\n",
        "  print(\"a equals c, but there should be something wrong if this line is printed\") # This line won't be execute\n",
        "else:\n",
        "  print(\"a does not equal c\")\n",
        "\n",
        "if a==c:\n",
        "  print('Ah')\n",
        "elif c < d:\n",
        "  print('Ooh')\n",
        "else:\n",
        "  print('Yes')"
      ],
      "execution_count": 28,
      "outputs": [
        {
          "output_type": "stream",
          "name": "stdout",
          "text": [
            "a equals b but is smaller than c\na does not equal c\nOoh\n"
          ]
        }
      ]
    },
    {
      "cell_type": "markdown",
      "metadata": {
        "id": "aBJLPI9W7D8M"
      },
      "source": [
        "Now it's time for some tasks!"
      ]
    },
    {
      "cell_type": "code",
      "metadata": {
        "id": "He1rJY3n7G4m"
      },
      "source": [
        "# Challenge 1: Obtain a new variable named \"targetA\" which equals 9 (as an integer) by using data in the provided list and basic arithmatic operaters. \n",
        "numList = [2,7,11,15]\n",
        "targetA = 0\n",
        "### Write your code below\n",
        "\n",
        "targetA = numList[3] - numList[2] + numList[1] - numList[0]\n",
        "\n",
        "\n",
        "\n",
        "\n",
        "\n",
        "### Write your code above\n",
        "print(\"My target equals %s, so I got it %s!\" % (targetA, (\"right\" if targetA == 9 else \"wrong\")))"
      ],
      "execution_count": 35,
      "outputs": [
        {
          "output_type": "stream",
          "name": "stdout",
          "text": [
            "My target equals 9, so I got it right!\n"
          ]
        }
      ]
    },
    {
      "cell_type": "code",
      "metadata": {
        "id": "T-hW1_ft7HFw"
      },
      "source": [
        "# Challenge 2: Obtain a reversed list for numList\n",
        "numList = [2,7,11,15]\n",
        "targetList = []\n",
        "### Write your code below\n",
        "\n",
        "targetList =  [numList[3], numList[2], numList[1], numList[0]]\n",
        "\n",
        "\n",
        "\n",
        "\n",
        "\n",
        "### Write your code above\n",
        "print(\"My target List is %s\" % targetList)"
      ],
      "execution_count": 44,
      "outputs": [
        {
          "output_type": "stream",
          "name": "stdout",
          "text": [
            "My target List is [15, 11, 7, 2]\n"
          ]
        }
      ]
    },
    {
      "cell_type": "code",
      "metadata": {
        "id": "4UYWsE4w7HOZ"
      },
      "source": [
        "# Challenge 3: Get the sum of the elements in the list\n",
        "numList = [2,7,11,15]\n",
        "numListSum = 0\n",
        "### Write your code below\n",
        "\n",
        "numListSum = sum (numList)\n",
        "\n",
        "\n",
        "\n",
        "\n",
        "\n",
        "### Write your code above\n",
        "print(\"My sum equals %s, so I got it %s!\" % (numListSum, (\"right\" if numListSum == 35 else \"wrong\")))"
      ],
      "execution_count": 47,
      "outputs": [
        {
          "output_type": "stream",
          "name": "stdout",
          "text": [
            "My sum equals 35, so I got it right!\n"
          ]
        }
      ]
    },
    {
      "cell_type": "code",
      "metadata": {
        "id": "LnJJUrl47NKN"
      },
      "source": [
        "# Challenge 4: Sort the list from small to big!\n",
        "numList = [7,2,15,11]\n",
        "targetList = []\n",
        "### Write your code below\n",
        "\n",
        "numList2 = list(numList)\n",
        "###sorts the first and second number\n",
        "if numList[0] > numList [1]:\n",
        "    numList[0] = numList2[1]\n",
        "    numList[1] = numList2[0]\n",
        "else:\n",
        "    numList = numList\n",
        "if numList[1] < numList [2]:\n",
        "    numList = numList\n",
        "else:\n",
        "    numList = numList\n",
        "numList2 = list(numList)\n",
        "###sorts second and third number\n",
        "if numList[1] > numList [2]:\n",
        "    numList[1] = numList2[2]\n",
        "    numList[2] = numList2[1]\n",
        "else:\n",
        "    numList = numList\n",
        "if numList[1] < numList [2]:\n",
        "    numList = numList\n",
        "else:\n",
        "    numList = numList\n",
        "numList2 = list(numList) \n",
        "###sorts the third and fourth number\n",
        "if numList[2] > numList [3]:\n",
        "    numList[2] = numList2[3]\n",
        "    numList[3] = numList2[2]\n",
        "else:\n",
        "    numList = numList\n",
        "if numList[2] < numList [3]:\n",
        "    numList = numList\n",
        "else:\n",
        "    numList = numList\n",
        "\n",
        "targetList = numList\n",
        "\n",
        "### Write your code above\n",
        "print(\"My target List is %s\" % targetList)"
      ],
      "execution_count": 155,
      "outputs": [
        {
          "output_type": "stream",
          "name": "stdout",
          "text": [
            "My target List is [2, 7, 11, 15]\n"
          ]
        }
      ]
    },
    {
      "source": [
        "#failed attempt at a while loop to do this\n",
        "\n",
        "# Challenge 5: Remove all duplicates form teh list!\n",
        "numList = [7,7,7,3,2,2,15,11]\n",
        "targetList = []\n",
        "### Write your code below\n",
        "\n",
        "n=0\n",
        "var1=0\n",
        "while n<1:\n",
        "    if numList[n] == numList[n+1]:\n",
        "        numList=[numList[0:n],numList[n+2:7-var1]]\n",
        "        var1=var1+1\n",
        "    else:\n",
        "        n=n+1\n",
        "\n",
        "targetList = numList\n",
        "### Write your code above\n",
        "print(\"My target List is %s\" % targetList)"
      ],
      "cell_type": "code",
      "metadata": {
        "id": "vV1nNIRf7VMr"
      },
      "execution_count": 218,
      "outputs": [
        {
          "output_type": "error",
          "ename": "IndexError",
          "evalue": "list index out of range",
          "traceback": [
            "\u001b[0;31m---------------------------------------------------------------------------\u001b[0m",
            "\u001b[0;31mIndexError\u001b[0m                                Traceback (most recent call last)",
            "\u001b[0;32m/var/folders/6l/kxf7m2b91gld05hr09zwhn_40000gn/T/ipykernel_97657/3820532442.py\u001b[0m in \u001b[0;36m<module>\u001b[0;34m\u001b[0m\n\u001b[1;32m      7\u001b[0m \u001b[0mvar1\u001b[0m\u001b[0;34m=\u001b[0m\u001b[0;36m0\u001b[0m\u001b[0;34m\u001b[0m\u001b[0;34m\u001b[0m\u001b[0m\n\u001b[1;32m      8\u001b[0m \u001b[0;32mwhile\u001b[0m \u001b[0mn\u001b[0m\u001b[0;34m<\u001b[0m\u001b[0;36m2\u001b[0m\u001b[0;34m:\u001b[0m\u001b[0;34m\u001b[0m\u001b[0;34m\u001b[0m\u001b[0m\n\u001b[0;32m----> 9\u001b[0;31m     \u001b[0;32mif\u001b[0m \u001b[0mnumList\u001b[0m\u001b[0;34m[\u001b[0m\u001b[0mn\u001b[0m\u001b[0;34m]\u001b[0m \u001b[0;34m==\u001b[0m \u001b[0mnumList\u001b[0m\u001b[0;34m[\u001b[0m\u001b[0mn\u001b[0m\u001b[0;34m+\u001b[0m\u001b[0;36m1\u001b[0m\u001b[0;34m]\u001b[0m\u001b[0;34m:\u001b[0m\u001b[0;34m\u001b[0m\u001b[0;34m\u001b[0m\u001b[0m\n\u001b[0m\u001b[1;32m     10\u001b[0m         \u001b[0mnumList\u001b[0m\u001b[0;34m=\u001b[0m\u001b[0;34m[\u001b[0m\u001b[0mnumList\u001b[0m\u001b[0;34m[\u001b[0m\u001b[0;36m0\u001b[0m\u001b[0;34m:\u001b[0m\u001b[0mn\u001b[0m\u001b[0;34m]\u001b[0m\u001b[0;34m,\u001b[0m\u001b[0mnumList\u001b[0m\u001b[0;34m[\u001b[0m\u001b[0mn\u001b[0m\u001b[0;34m+\u001b[0m\u001b[0;36m2\u001b[0m\u001b[0;34m:\u001b[0m\u001b[0;36m7\u001b[0m\u001b[0;34m-\u001b[0m\u001b[0mvar1\u001b[0m\u001b[0;34m]\u001b[0m\u001b[0;34m]\u001b[0m\u001b[0;34m\u001b[0m\u001b[0;34m\u001b[0m\u001b[0m\n\u001b[1;32m     11\u001b[0m         \u001b[0mvar1\u001b[0m\u001b[0;34m=\u001b[0m\u001b[0mvar1\u001b[0m\u001b[0;34m+\u001b[0m\u001b[0;36m1\u001b[0m\u001b[0;34m\u001b[0m\u001b[0;34m\u001b[0m\u001b[0m\n",
            "\u001b[0;31mIndexError\u001b[0m: list index out of range"
          ]
        }
      ]
    },
    {
      "cell_type": "code",
      "execution_count": 336,
      "metadata": {},
      "outputs": [
        {
          "output_type": "stream",
          "name": "stdout",
          "text": [
            "My target List is [2, 3, 7, 11, 15]\n"
          ]
        }
      ],
      "source": [
        "# Challenge 5: Remove all duplicates form teh list!\n",
        "numList = [7,7,7,3,2,2,15,11]\n",
        "targetList = []\n",
        "### Write your code below\n",
        "\n",
        "targetList= list(set(numList))\n",
        "\n",
        "### Write your code above\n",
        "print(\"My target List is %s\" % targetList)"
      ]
    },
    {
      "cell_type": "code",
      "execution_count": null,
      "metadata": {},
      "outputs": [],
      "source": []
    }
  ]
}